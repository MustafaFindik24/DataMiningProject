{
 "cells": [
  {
   "cell_type": "code",
   "execution_count": 1,
   "metadata": {},
   "outputs": [],
   "source": [
    "import numpy as np\n",
    "import pandas as pd\n",
    "import seaborn as sns\n",
    "import matplotlib.pyplot as plt\n",
    "from scipy.stats import entropy\n",
    "from sklearn import preprocessing\n",
    "from sklearn.decomposition import PCA\n",
    "from sklearn.model_selection import train_test_split\n",
    "from sklearn.neighbors import KNeighborsClassifier\n",
    "from sklearn.preprocessing import StandardScaler"
   ]
  },
  {
   "cell_type": "code",
   "execution_count": 2,
   "metadata": {},
   "outputs": [],
   "source": [
    "phone=pd.read_excel(\"mobilephoneprice.xlsx\")\n",
    "\n",
    "phone_data=phone.iloc[::3]\n",
    "phone_data.reset_index(drop=True,inplace=True)\n",
    "\n",
    "satir_sayisi=phone_data.shape[0]\n",
    "sutun_sayisi=phone_data.shape[1]"
   ]
  },
  {
   "cell_type": "code",
   "execution_count": 3,
   "metadata": {
    "scrolled": false
   },
   "outputs": [],
   "source": [
    "def numeric_to_categoric(dataframe, column_name):\n",
    "    \"\"\"\n",
    "        0 ve 1 seklinde gorulen verileri \n",
    "        0 icin yok, 1 icin var olarak degistirir\n",
    "    Args:\n",
    "        dataframe (data.Frame): degistirelecek dataframe\n",
    "        column_name ([type]): degistirelecek dataframe'in kolonu\n",
    "\n",
    "    Raises:\n",
    "        Exception: \n",
    "        eger 0 ve 1 sekilde 2 den fazla degisken varsa\n",
    "        exception doner\n",
    "    Returns:\n",
    "        dataframe\n",
    "    \"\"\"\n",
    "    if dataframe[column_name].nunique() != 2:\n",
    "        raise Exception(\"Ikiden fazla degişken görüldü\")\n",
    "    else:\n",
    "        dataframe.loc[dataframe[column_name] == 1, column_name] = \"var\"\n",
    "        dataframe.loc[dataframe[column_name] == 0, column_name] = \"yok\"\n",
    "    \n",
    "    return dataframe"
   ]
  },
  {
   "cell_type": "code",
   "execution_count": 4,
   "metadata": {},
   "outputs": [],
   "source": [
    "kategorik_veriler = [\"blue\", \"dual_sim\", \"four_g\", \"touch_screen\", \"wifi\"]"
   ]
  },
  {
   "cell_type": "code",
   "execution_count": 5,
   "metadata": {},
   "outputs": [],
   "source": [
    "sayisal_veriler = [\"battery_power\",\"clock_speed\",\"fc\",\"int_memory\",\"m_dep\",\"mobile_wt\",\"n_cores\",\n",
    "                   \"pc\",\"px_height\",\"px_width\",\"ram\",\"sc_h\",\"sc_w\",\"talk_time\"]"
   ]
  },
  {
   "cell_type": "code",
   "execution_count": 6,
   "metadata": {},
   "outputs": [],
   "source": [
    "pd.options.mode.chained_assignment = None"
   ]
  },
  {
   "cell_type": "code",
   "execution_count": 7,
   "metadata": {},
   "outputs": [],
   "source": [
    "for i in phone_data[kategorik_veriler].columns:\n",
    "    numeric_to_categoric(phone_data,phone_data[i].name)"
   ]
  },
  {
   "cell_type": "code",
   "execution_count": 31,
   "metadata": {},
   "outputs": [
    {
     "data": {
      "text/html": [
       "<div>\n",
       "<style scoped>\n",
       "    .dataframe tbody tr th:only-of-type {\n",
       "        vertical-align: middle;\n",
       "    }\n",
       "\n",
       "    .dataframe tbody tr th {\n",
       "        vertical-align: top;\n",
       "    }\n",
       "\n",
       "    .dataframe thead th {\n",
       "        text-align: right;\n",
       "    }\n",
       "</style>\n",
       "<table border=\"1\" class=\"dataframe\">\n",
       "  <thead>\n",
       "    <tr style=\"text-align: right;\">\n",
       "      <th></th>\n",
       "      <th>battery_power</th>\n",
       "      <th>blue</th>\n",
       "      <th>clock_speed</th>\n",
       "      <th>dual_sim</th>\n",
       "      <th>fc</th>\n",
       "      <th>four_g</th>\n",
       "      <th>int_memory</th>\n",
       "      <th>m_dep</th>\n",
       "      <th>mobile_wt</th>\n",
       "      <th>n_cores</th>\n",
       "      <th>pc</th>\n",
       "      <th>px_height</th>\n",
       "      <th>px_width</th>\n",
       "      <th>ram</th>\n",
       "      <th>sc_h</th>\n",
       "      <th>sc_w</th>\n",
       "      <th>talk_time</th>\n",
       "      <th>touch_screen</th>\n",
       "      <th>wifi</th>\n",
       "      <th>price_range</th>\n",
       "    </tr>\n",
       "  </thead>\n",
       "  <tbody>\n",
       "    <tr>\n",
       "      <th>0</th>\n",
       "      <td>842</td>\n",
       "      <td>yok</td>\n",
       "      <td>2.2</td>\n",
       "      <td>yok</td>\n",
       "      <td>1.0</td>\n",
       "      <td>yok</td>\n",
       "      <td>7</td>\n",
       "      <td>0.6</td>\n",
       "      <td>188</td>\n",
       "      <td>2</td>\n",
       "      <td>2</td>\n",
       "      <td>20.0</td>\n",
       "      <td>756</td>\n",
       "      <td>2549</td>\n",
       "      <td>9</td>\n",
       "      <td>7.0</td>\n",
       "      <td>19</td>\n",
       "      <td>yok</td>\n",
       "      <td>var</td>\n",
       "      <td>1</td>\n",
       "    </tr>\n",
       "    <tr>\n",
       "      <th>1</th>\n",
       "      <td>615</td>\n",
       "      <td>var</td>\n",
       "      <td>2.5</td>\n",
       "      <td>yok</td>\n",
       "      <td>0.0</td>\n",
       "      <td>yok</td>\n",
       "      <td>10</td>\n",
       "      <td>0.8</td>\n",
       "      <td>131</td>\n",
       "      <td>6</td>\n",
       "      <td>9</td>\n",
       "      <td>1216.0</td>\n",
       "      <td>1786</td>\n",
       "      <td>2769</td>\n",
       "      <td>16</td>\n",
       "      <td>8.0</td>\n",
       "      <td>11</td>\n",
       "      <td>yok</td>\n",
       "      <td>yok</td>\n",
       "      <td>2</td>\n",
       "    </tr>\n",
       "    <tr>\n",
       "      <th>2</th>\n",
       "      <td>1821</td>\n",
       "      <td>yok</td>\n",
       "      <td>1.7</td>\n",
       "      <td>yok</td>\n",
       "      <td>4.0</td>\n",
       "      <td>var</td>\n",
       "      <td>10</td>\n",
       "      <td>0.8</td>\n",
       "      <td>139</td>\n",
       "      <td>8</td>\n",
       "      <td>10</td>\n",
       "      <td>381.0</td>\n",
       "      <td>1018</td>\n",
       "      <td>3220</td>\n",
       "      <td>13</td>\n",
       "      <td>8.0</td>\n",
       "      <td>18</td>\n",
       "      <td>yok</td>\n",
       "      <td>var</td>\n",
       "      <td>3</td>\n",
       "    </tr>\n",
       "    <tr>\n",
       "      <th>3</th>\n",
       "      <td>509</td>\n",
       "      <td>var</td>\n",
       "      <td>0.6</td>\n",
       "      <td>var</td>\n",
       "      <td>2.0</td>\n",
       "      <td>var</td>\n",
       "      <td>9</td>\n",
       "      <td>0.1</td>\n",
       "      <td>93</td>\n",
       "      <td>5</td>\n",
       "      <td>15</td>\n",
       "      <td>1137.0</td>\n",
       "      <td>1224</td>\n",
       "      <td>513</td>\n",
       "      <td>19</td>\n",
       "      <td>10.0</td>\n",
       "      <td>12</td>\n",
       "      <td>yok</td>\n",
       "      <td>yok</td>\n",
       "      <td>0</td>\n",
       "    </tr>\n",
       "    <tr>\n",
       "      <th>4</th>\n",
       "      <td>1815</td>\n",
       "      <td>yok</td>\n",
       "      <td>2.8</td>\n",
       "      <td>yok</td>\n",
       "      <td>2.0</td>\n",
       "      <td>yok</td>\n",
       "      <td>33</td>\n",
       "      <td>0.6</td>\n",
       "      <td>159</td>\n",
       "      <td>4</td>\n",
       "      <td>17</td>\n",
       "      <td>607.0</td>\n",
       "      <td>748</td>\n",
       "      <td>1482</td>\n",
       "      <td>18</td>\n",
       "      <td>0.0</td>\n",
       "      <td>2</td>\n",
       "      <td>yok</td>\n",
       "      <td>yok</td>\n",
       "      <td>1</td>\n",
       "    </tr>\n",
       "    <tr>\n",
       "      <th>...</th>\n",
       "      <td>...</td>\n",
       "      <td>...</td>\n",
       "      <td>...</td>\n",
       "      <td>...</td>\n",
       "      <td>...</td>\n",
       "      <td>...</td>\n",
       "      <td>...</td>\n",
       "      <td>...</td>\n",
       "      <td>...</td>\n",
       "      <td>...</td>\n",
       "      <td>...</td>\n",
       "      <td>...</td>\n",
       "      <td>...</td>\n",
       "      <td>...</td>\n",
       "      <td>...</td>\n",
       "      <td>...</td>\n",
       "      <td>...</td>\n",
       "      <td>...</td>\n",
       "      <td>...</td>\n",
       "      <td>...</td>\n",
       "    </tr>\n",
       "    <tr>\n",
       "      <th>662</th>\n",
       "      <td>1139</td>\n",
       "      <td>var</td>\n",
       "      <td>0.9</td>\n",
       "      <td>var</td>\n",
       "      <td>6.0</td>\n",
       "      <td>var</td>\n",
       "      <td>58</td>\n",
       "      <td>0.5</td>\n",
       "      <td>161</td>\n",
       "      <td>2</td>\n",
       "      <td>11</td>\n",
       "      <td>742.0</td>\n",
       "      <td>999</td>\n",
       "      <td>1850</td>\n",
       "      <td>9</td>\n",
       "      <td>4.0</td>\n",
       "      <td>8</td>\n",
       "      <td>yok</td>\n",
       "      <td>yok</td>\n",
       "      <td>1</td>\n",
       "    </tr>\n",
       "    <tr>\n",
       "      <th>663</th>\n",
       "      <td>586</td>\n",
       "      <td>yok</td>\n",
       "      <td>2.8</td>\n",
       "      <td>yok</td>\n",
       "      <td>2.0</td>\n",
       "      <td>yok</td>\n",
       "      <td>15</td>\n",
       "      <td>0.2</td>\n",
       "      <td>83</td>\n",
       "      <td>3</td>\n",
       "      <td>11</td>\n",
       "      <td>241.0</td>\n",
       "      <td>854</td>\n",
       "      <td>2592</td>\n",
       "      <td>12</td>\n",
       "      <td>8.0</td>\n",
       "      <td>3</td>\n",
       "      <td>yok</td>\n",
       "      <td>yok</td>\n",
       "      <td>1</td>\n",
       "    </tr>\n",
       "    <tr>\n",
       "      <th>664</th>\n",
       "      <td>674</td>\n",
       "      <td>var</td>\n",
       "      <td>2.9</td>\n",
       "      <td>var</td>\n",
       "      <td>1.0</td>\n",
       "      <td>yok</td>\n",
       "      <td>21</td>\n",
       "      <td>0.2</td>\n",
       "      <td>198</td>\n",
       "      <td>3</td>\n",
       "      <td>4</td>\n",
       "      <td>576.0</td>\n",
       "      <td>1809</td>\n",
       "      <td>1180</td>\n",
       "      <td>6</td>\n",
       "      <td>3.0</td>\n",
       "      <td>4</td>\n",
       "      <td>var</td>\n",
       "      <td>var</td>\n",
       "      <td>0</td>\n",
       "    </tr>\n",
       "    <tr>\n",
       "      <th>665</th>\n",
       "      <td>794</td>\n",
       "      <td>var</td>\n",
       "      <td>0.5</td>\n",
       "      <td>var</td>\n",
       "      <td>0.0</td>\n",
       "      <td>var</td>\n",
       "      <td>2</td>\n",
       "      <td>0.8</td>\n",
       "      <td>106</td>\n",
       "      <td>6</td>\n",
       "      <td>14</td>\n",
       "      <td>1222.0</td>\n",
       "      <td>1890</td>\n",
       "      <td>668</td>\n",
       "      <td>13</td>\n",
       "      <td>4.0</td>\n",
       "      <td>19</td>\n",
       "      <td>var</td>\n",
       "      <td>yok</td>\n",
       "      <td>0</td>\n",
       "    </tr>\n",
       "    <tr>\n",
       "      <th>666</th>\n",
       "      <td>1512</td>\n",
       "      <td>yok</td>\n",
       "      <td>0.9</td>\n",
       "      <td>yok</td>\n",
       "      <td>4.0</td>\n",
       "      <td>var</td>\n",
       "      <td>46</td>\n",
       "      <td>0.1</td>\n",
       "      <td>145</td>\n",
       "      <td>5</td>\n",
       "      <td>5</td>\n",
       "      <td>336.0</td>\n",
       "      <td>670</td>\n",
       "      <td>869</td>\n",
       "      <td>18</td>\n",
       "      <td>10.0</td>\n",
       "      <td>19</td>\n",
       "      <td>var</td>\n",
       "      <td>var</td>\n",
       "      <td>0</td>\n",
       "    </tr>\n",
       "  </tbody>\n",
       "</table>\n",
       "<p>667 rows × 20 columns</p>\n",
       "</div>"
      ],
      "text/plain": [
       "     battery_power blue  clock_speed dual_sim   fc four_g  int_memory  m_dep  \\\n",
       "0              842  yok          2.2      yok  1.0    yok           7    0.6   \n",
       "1              615  var          2.5      yok  0.0    yok          10    0.8   \n",
       "2             1821  yok          1.7      yok  4.0    var          10    0.8   \n",
       "3              509  var          0.6      var  2.0    var           9    0.1   \n",
       "4             1815  yok          2.8      yok  2.0    yok          33    0.6   \n",
       "..             ...  ...          ...      ...  ...    ...         ...    ...   \n",
       "662           1139  var          0.9      var  6.0    var          58    0.5   \n",
       "663            586  yok          2.8      yok  2.0    yok          15    0.2   \n",
       "664            674  var          2.9      var  1.0    yok          21    0.2   \n",
       "665            794  var          0.5      var  0.0    var           2    0.8   \n",
       "666           1512  yok          0.9      yok  4.0    var          46    0.1   \n",
       "\n",
       "     mobile_wt  n_cores  pc  px_height  px_width   ram  sc_h  sc_w  talk_time  \\\n",
       "0          188        2   2       20.0       756  2549     9   7.0         19   \n",
       "1          131        6   9     1216.0      1786  2769    16   8.0         11   \n",
       "2          139        8  10      381.0      1018  3220    13   8.0         18   \n",
       "3           93        5  15     1137.0      1224   513    19  10.0         12   \n",
       "4          159        4  17      607.0       748  1482    18   0.0          2   \n",
       "..         ...      ...  ..        ...       ...   ...   ...   ...        ...   \n",
       "662        161        2  11      742.0       999  1850     9   4.0          8   \n",
       "663         83        3  11      241.0       854  2592    12   8.0          3   \n",
       "664        198        3   4      576.0      1809  1180     6   3.0          4   \n",
       "665        106        6  14     1222.0      1890   668    13   4.0         19   \n",
       "666        145        5   5      336.0       670   869    18  10.0         19   \n",
       "\n",
       "    touch_screen wifi  price_range  \n",
       "0            yok  var            1  \n",
       "1            yok  yok            2  \n",
       "2            yok  var            3  \n",
       "3            yok  yok            0  \n",
       "4            yok  yok            1  \n",
       "..           ...  ...          ...  \n",
       "662          yok  yok            1  \n",
       "663          yok  yok            1  \n",
       "664          var  var            0  \n",
       "665          var  yok            0  \n",
       "666          var  var            0  \n",
       "\n",
       "[667 rows x 20 columns]"
      ]
     },
     "execution_count": 31,
     "metadata": {},
     "output_type": "execute_result"
    }
   ],
   "source": [
    "phone_data"
   ]
  },
  {
   "cell_type": "code",
   "execution_count": null,
   "metadata": {},
   "outputs": [],
   "source": [
    "pd.DataFrame([phone_data[sayisal_veriler].describe().T.loc[:, \"mean\"], phone_data[sayisal_veriler].describe().T.loc[:, \"std\"]]).T"
   ]
  },
  {
   "cell_type": "code",
   "execution_count": 33,
   "metadata": {},
   "outputs": [],
   "source": [
    "def data_none(data_frame,column_name):\n",
    "    ort=(data_frame[column_name].mean())\n",
    "    std=(data_frame[column_name].std())\n",
    "    mindeger=ort-(2*std)\n",
    "    maxdeger=ort+(2*std)\n",
    "        \n",
    "    print(f\"{column_name} ortalama      : {ort}\")\n",
    "    print(f\"{column_name} standart sapma: {std}\")\n",
    "    print(f\"{column_name} minimum değer : {mindeger}\")\n",
    "    print(f\"{column_name} maximum değer : {maxdeger}\")\n",
    "    print(f\"{mindeger} altında ve {maxdeger} üstünde kalan bütün değerler\")\n",
    "    print(f\"none olarak atanıp ortalama değere eşitlendi.\")\n",
    "    print(\"----------------------------------------------\")\n",
    "    \n",
    "    for i in range(len(data_frame[column_name])):\n",
    "        if data_frame[column_name][i]>maxdeger or data_frame[column_name][i]<mindeger:\n",
    "            data_frame[column_name][i]=np.nan\n",
    "            data_frame[column_name][i]=ort"
   ]
  },
  {
   "cell_type": "code",
   "execution_count": 35,
   "metadata": {
    "scrolled": true
   },
   "outputs": [
    {
     "name": "stdout",
     "output_type": "stream",
     "text": [
      "battery_power ortalama      : 1250.9295352323838\n",
      "battery_power standart sapma: 446.51230976873273\n",
      "battery_power minimum değer : 357.9049156949184\n",
      "battery_power maximum değer : 2143.954154769849\n",
      "357.9049156949184 altında ve 2143.954154769849 üstünde kalan bütün değerler\n",
      "none olarak atanıp ortalama değere eşitlendi.\n",
      "----------------------------------------------\n",
      "clock_speed ortalama      : 1.5190404797601198\n",
      "clock_speed standart sapma: 0.8218197287283263\n",
      "clock_speed minimum değer : -0.12459897769653283\n",
      "clock_speed maximum değer : 3.1626799372167724\n",
      "-0.12459897769653283 altında ve 3.1626799372167724 üstünde kalan bütün değerler\n",
      "none olarak atanıp ortalama değere eşitlendi.\n",
      "----------------------------------------------\n",
      "int_memory ortalama      : 31.454272863568217\n",
      "int_memory standart sapma: 17.91150063055428\n",
      "int_memory minimum değer : -4.368728397540341\n",
      "int_memory maximum değer : 67.27727412467678\n",
      "-4.368728397540341 altında ve 67.27727412467678 üstünde kalan bütün değerler\n",
      "none olarak atanıp ortalama değere eşitlendi.\n",
      "----------------------------------------------\n",
      "m_dep ortalama      : 0.4967016491754122\n",
      "m_dep standart sapma: 0.2873528965042954\n",
      "m_dep minimum değer : -0.07800414383317861\n",
      "m_dep maximum değer : 1.071407442184003\n",
      "-0.07800414383317861 altında ve 1.071407442184003 üstünde kalan bütün değerler\n",
      "none olarak atanıp ortalama değere eşitlendi.\n",
      "----------------------------------------------\n",
      "mobile_wt ortalama      : 139.29835082458771\n",
      "mobile_wt standart sapma: 35.04809283099366\n",
      "mobile_wt minimum değer : 69.2021651626004\n",
      "mobile_wt maximum değer : 209.39453648657502\n",
      "69.2021651626004 altında ve 209.39453648657502 üstünde kalan bütün değerler\n",
      "none olarak atanıp ortalama değere eşitlendi.\n",
      "----------------------------------------------\n",
      "pc ortalama      : 9.76311844077961\n",
      "pc standart sapma: 5.975748374814977\n",
      "pc minimum değer : -2.188378308850343\n",
      "pc maximum değer : 21.714615190409564\n",
      "-2.188378308850343 altında ve 21.714615190409564 üstünde kalan bütün değerler\n",
      "none olarak atanıp ortalama değere eşitlendi.\n",
      "----------------------------------------------\n",
      "px_height ortalama      : 572.8612660903475\n",
      "px_height standart sapma: 330.5056913989926\n",
      "px_height minimum değer : -88.15011670763772\n",
      "px_height maximum değer : 1233.8726488883326\n",
      "-88.15011670763772 altında ve 1233.8726488883326 üstünde kalan bütün değerler\n",
      "none olarak atanıp ortalama değere eşitlendi.\n",
      "----------------------------------------------\n",
      "px_width ortalama      : 1258.791604197901\n",
      "px_width standart sapma: 427.1996811996614\n",
      "px_width minimum değer : 404.3922417985782\n",
      "px_width maximum değer : 2113.190966597224\n",
      "404.3922417985782 altında ve 2113.190966597224 üstünde kalan bütün değerler\n",
      "none olarak atanıp ortalama değere eşitlendi.\n",
      "----------------------------------------------\n",
      "ram ortalama      : 2145.110944527736\n",
      "ram standart sapma: 1109.3074346951016\n",
      "ram minimum değer : -73.5039248624671\n",
      "ram maximum değer : 4363.725813917939\n",
      "-73.5039248624671 altında ve 4363.725813917939 üstünde kalan bütün değerler\n",
      "none olarak atanıp ortalama değere eşitlendi.\n",
      "----------------------------------------------\n",
      "sc_h ortalama      : 12.388305847076461\n",
      "sc_h standart sapma: 4.243424304525637\n",
      "sc_h minimum değer : 3.9014572380251877\n",
      "sc_h maximum değer : 20.875154456127735\n",
      "3.9014572380251877 altında ve 20.875154456127735 üstünde kalan bütün değerler\n",
      "none olarak atanıp ortalama değere eşitlendi.\n",
      "----------------------------------------------\n",
      "sc_w ortalama      : 4.80588849609828\n",
      "sc_w standart sapma: 3.1198645851242275\n",
      "sc_w minimum değer : -1.4338406741501748\n",
      "sc_w maximum değer : 11.045617666346736\n",
      "-1.4338406741501748 altında ve 11.045617666346736 üstünde kalan bütün değerler\n",
      "none olarak atanıp ortalama değere eşitlendi.\n",
      "----------------------------------------------\n",
      "talk_time ortalama      : 11.047976011994002\n",
      "talk_time standart sapma: 5.339026348855947\n",
      "talk_time minimum değer : 0.3699233142821079\n",
      "talk_time maximum değer : 21.726028709705897\n",
      "0.3699233142821079 altında ve 21.726028709705897 üstünde kalan bütün değerler\n",
      "none olarak atanıp ortalama değere eşitlendi.\n",
      "----------------------------------------------\n"
     ]
    }
   ],
   "source": [
    "for i in phone_data[sayisal_veriler].columns:\n",
    "    data_none(phone_data,phone_data[i].name)\n",
    "#data_none(phone_data,\"ram\")"
   ]
  },
  {
   "cell_type": "code",
   "execution_count": null,
   "metadata": {},
   "outputs": [],
   "source": [
    "phone_data"
   ]
  },
  {
   "cell_type": "code",
   "execution_count": 10,
   "metadata": {
    "scrolled": true
   },
   "outputs": [
    {
     "data": {
      "image/png": "[encoded data removed]",
      "text/plain": [
       "<Figure size 864x360 with 1 Axes>"
      ]
     },
     "metadata": {
      "needs_background": "light"
     },
     "output_type": "display_data"
    },
    {
     "data": {
      "image/png": "[encoded data removed]",
      "text/plain": [
       "<Figure size 864x360 with 1 Axes>"
      ]
     },
     "metadata": {
      "needs_background": "light"
     },
     "output_type": "display_data"
    },
    {
     "data": {
      "image/png": "[encoded data removed]",
      "text/plain": [
       "<Figure size 864x360 with 1 Axes>"
      ]
     },
     "metadata": {
      "needs_background": "light"
     },
     "output_type": "display_data"
    },
    {
     "data": {
      "image/png": "[encoded data removed]",
      "text/plain": [
       "<Figure size 864x360 with 1 Axes>"
      ]
     },
     "metadata": {
      "needs_background": "light"
     },
     "output_type": "display_data"
    },
    {
     "data": {
      "image/png": "[encoded data removed]",
      "text/plain": [
       "<Figure size 864x360 with 1 Axes>"
      ]
     },
     "metadata": {
      "needs_background": "light"
     },
     "output_type": "display_data"
    }
   ],
   "source": [
    "for i in phone_data[kategorik_veriler].columns:\n",
    "    bins = np.arange(10) - 0.5\n",
    "    plt.figure(figsize = (12,5))\n",
    "    plt.hist(x = phone_data[i].astype(\"str\"), bins = bins, edgecolor = \"red\")\n",
    "    plt.xlabel(phone_data[i].name, weight='bold', fontsize = 13)\n",
    "    plt.xlim([-6, 7])"
   ]
  },
  {
   "cell_type": "code",
   "execution_count": 11,
   "metadata": {},
   "outputs": [],
   "source": [
    "ent = []\n",
    "def entropy_cal(dataframe,column_name):\n",
    "    x=dataframe[column_name].value_counts()[0]\n",
    "    y=dataframe[column_name].value_counts()[1]\n",
    "    z=dataframe[column_name].value_counts().sum()\n",
    "    ent.append(entropy([x/z,y/z],base=2))\n",
    "    return entropy    "
   ]
  },
  {
   "cell_type": "code",
   "execution_count": 12,
   "metadata": {},
   "outputs": [
    {
     "name": "stdout",
     "output_type": "stream",
     "text": [
      "blue entropi: [0.9980128601038274]\n",
      "dual_sim entropi: [0.9998038004830077]\n",
      "four_g entropi: [0.9893356253319693]\n",
      "touch_screen entropi: [0.9994145917664545]\n",
      "wifi entropi: [0.9975324280710957]\n"
     ]
    }
   ],
   "source": [
    "for i in phone_data[kategorik_veriler].columns:\n",
    "    entropy_cal(phone_data,phone_data[i].name)\n",
    "    print(f\"{phone_data[i].name} entropi: {ent}\") \n",
    "    ent = []"
   ]
  },
  {
   "cell_type": "code",
   "execution_count": 36,
   "metadata": {},
   "outputs": [
    {
     "data": {
      "text/plain": [
       "array([[8.420e+02, 2.200e+00, 7.000e+00, ..., 9.000e+00, 7.000e+00,\n",
       "        1.900e+01],\n",
       "       [6.150e+02, 2.500e+00, 1.000e+01, ..., 1.600e+01, 8.000e+00,\n",
       "        1.100e+01],\n",
       "       [1.821e+03, 1.700e+00, 1.000e+01, ..., 1.300e+01, 8.000e+00,\n",
       "        1.800e+01],\n",
       "       ...,\n",
       "       [6.740e+02, 2.900e+00, 2.100e+01, ..., 6.000e+00, 3.000e+00,\n",
       "        4.000e+00],\n",
       "       [7.940e+02, 5.000e-01, 2.000e+00, ..., 1.300e+01, 4.000e+00,\n",
       "        1.900e+01],\n",
       "       [1.512e+03, 9.000e-01, 4.600e+01, ..., 1.800e+01, 1.000e+01,\n",
       "        1.900e+01]])"
      ]
     },
     "execution_count": 36,
     "metadata": {},
     "output_type": "execute_result"
    }
   ],
   "source": [
    "x = phone_data.loc[:,sayisal_veriler].values\n",
    "x"
   ]
  },
  {
   "cell_type": "markdown",
   "metadata": {},
   "source": [
    "# Madde 6"
   ]
  },
  {
   "cell_type": "code",
   "execution_count": 37,
   "metadata": {},
   "outputs": [
    {
     "data": {
      "text/html": [
       "<div>\n",
       "<style scoped>\n",
       "    .dataframe tbody tr th:only-of-type {\n",
       "        vertical-align: middle;\n",
       "    }\n",
       "\n",
       "    .dataframe tbody tr th {\n",
       "        vertical-align: top;\n",
       "    }\n",
       "\n",
       "    .dataframe thead th {\n",
       "        text-align: right;\n",
       "    }\n",
       "</style>\n",
       "<table border=\"1\" class=\"dataframe\">\n",
       "  <thead>\n",
       "    <tr style=\"text-align: right;\">\n",
       "      <th></th>\n",
       "      <th>battery_power</th>\n",
       "      <th>clock_speed</th>\n",
       "      <th>int_memory</th>\n",
       "      <th>m_dep</th>\n",
       "      <th>mobile_wt</th>\n",
       "      <th>pc</th>\n",
       "      <th>px_height</th>\n",
       "      <th>px_width</th>\n",
       "      <th>ram</th>\n",
       "      <th>sc_h</th>\n",
       "      <th>sc_w</th>\n",
       "      <th>talk_time</th>\n",
       "    </tr>\n",
       "  </thead>\n",
       "  <tbody>\n",
       "    <tr>\n",
       "      <th>0</th>\n",
       "      <td>842</td>\n",
       "      <td>2.2</td>\n",
       "      <td>7</td>\n",
       "      <td>0.6</td>\n",
       "      <td>188</td>\n",
       "      <td>2</td>\n",
       "      <td>20.0</td>\n",
       "      <td>756</td>\n",
       "      <td>2549</td>\n",
       "      <td>9</td>\n",
       "      <td>7.0</td>\n",
       "      <td>19</td>\n",
       "    </tr>\n",
       "    <tr>\n",
       "      <th>1</th>\n",
       "      <td>615</td>\n",
       "      <td>2.5</td>\n",
       "      <td>10</td>\n",
       "      <td>0.8</td>\n",
       "      <td>131</td>\n",
       "      <td>9</td>\n",
       "      <td>1216.0</td>\n",
       "      <td>1786</td>\n",
       "      <td>2769</td>\n",
       "      <td>16</td>\n",
       "      <td>8.0</td>\n",
       "      <td>11</td>\n",
       "    </tr>\n",
       "    <tr>\n",
       "      <th>2</th>\n",
       "      <td>1821</td>\n",
       "      <td>1.7</td>\n",
       "      <td>10</td>\n",
       "      <td>0.8</td>\n",
       "      <td>139</td>\n",
       "      <td>10</td>\n",
       "      <td>381.0</td>\n",
       "      <td>1018</td>\n",
       "      <td>3220</td>\n",
       "      <td>13</td>\n",
       "      <td>8.0</td>\n",
       "      <td>18</td>\n",
       "    </tr>\n",
       "    <tr>\n",
       "      <th>3</th>\n",
       "      <td>509</td>\n",
       "      <td>0.6</td>\n",
       "      <td>9</td>\n",
       "      <td>0.1</td>\n",
       "      <td>93</td>\n",
       "      <td>15</td>\n",
       "      <td>1137.0</td>\n",
       "      <td>1224</td>\n",
       "      <td>513</td>\n",
       "      <td>19</td>\n",
       "      <td>10.0</td>\n",
       "      <td>12</td>\n",
       "    </tr>\n",
       "    <tr>\n",
       "      <th>4</th>\n",
       "      <td>1815</td>\n",
       "      <td>2.8</td>\n",
       "      <td>33</td>\n",
       "      <td>0.6</td>\n",
       "      <td>159</td>\n",
       "      <td>17</td>\n",
       "      <td>607.0</td>\n",
       "      <td>748</td>\n",
       "      <td>1482</td>\n",
       "      <td>18</td>\n",
       "      <td>0.0</td>\n",
       "      <td>2</td>\n",
       "    </tr>\n",
       "    <tr>\n",
       "      <th>...</th>\n",
       "      <td>...</td>\n",
       "      <td>...</td>\n",
       "      <td>...</td>\n",
       "      <td>...</td>\n",
       "      <td>...</td>\n",
       "      <td>...</td>\n",
       "      <td>...</td>\n",
       "      <td>...</td>\n",
       "      <td>...</td>\n",
       "      <td>...</td>\n",
       "      <td>...</td>\n",
       "      <td>...</td>\n",
       "    </tr>\n",
       "    <tr>\n",
       "      <th>662</th>\n",
       "      <td>1139</td>\n",
       "      <td>0.9</td>\n",
       "      <td>58</td>\n",
       "      <td>0.5</td>\n",
       "      <td>161</td>\n",
       "      <td>11</td>\n",
       "      <td>742.0</td>\n",
       "      <td>999</td>\n",
       "      <td>1850</td>\n",
       "      <td>9</td>\n",
       "      <td>4.0</td>\n",
       "      <td>8</td>\n",
       "    </tr>\n",
       "    <tr>\n",
       "      <th>663</th>\n",
       "      <td>586</td>\n",
       "      <td>2.8</td>\n",
       "      <td>15</td>\n",
       "      <td>0.2</td>\n",
       "      <td>83</td>\n",
       "      <td>11</td>\n",
       "      <td>241.0</td>\n",
       "      <td>854</td>\n",
       "      <td>2592</td>\n",
       "      <td>12</td>\n",
       "      <td>8.0</td>\n",
       "      <td>3</td>\n",
       "    </tr>\n",
       "    <tr>\n",
       "      <th>664</th>\n",
       "      <td>674</td>\n",
       "      <td>2.9</td>\n",
       "      <td>21</td>\n",
       "      <td>0.2</td>\n",
       "      <td>198</td>\n",
       "      <td>4</td>\n",
       "      <td>576.0</td>\n",
       "      <td>1809</td>\n",
       "      <td>1180</td>\n",
       "      <td>6</td>\n",
       "      <td>3.0</td>\n",
       "      <td>4</td>\n",
       "    </tr>\n",
       "    <tr>\n",
       "      <th>665</th>\n",
       "      <td>794</td>\n",
       "      <td>0.5</td>\n",
       "      <td>2</td>\n",
       "      <td>0.8</td>\n",
       "      <td>106</td>\n",
       "      <td>14</td>\n",
       "      <td>1222.0</td>\n",
       "      <td>1890</td>\n",
       "      <td>668</td>\n",
       "      <td>13</td>\n",
       "      <td>4.0</td>\n",
       "      <td>19</td>\n",
       "    </tr>\n",
       "    <tr>\n",
       "      <th>666</th>\n",
       "      <td>1512</td>\n",
       "      <td>0.9</td>\n",
       "      <td>46</td>\n",
       "      <td>0.1</td>\n",
       "      <td>145</td>\n",
       "      <td>5</td>\n",
       "      <td>336.0</td>\n",
       "      <td>670</td>\n",
       "      <td>869</td>\n",
       "      <td>18</td>\n",
       "      <td>10.0</td>\n",
       "      <td>19</td>\n",
       "    </tr>\n",
       "  </tbody>\n",
       "</table>\n",
       "<p>667 rows × 12 columns</p>\n",
       "</div>"
      ],
      "text/plain": [
       "     battery_power  clock_speed  int_memory  m_dep  mobile_wt  pc  px_height  \\\n",
       "0              842          2.2           7    0.6        188   2       20.0   \n",
       "1              615          2.5          10    0.8        131   9     1216.0   \n",
       "2             1821          1.7          10    0.8        139  10      381.0   \n",
       "3              509          0.6           9    0.1         93  15     1137.0   \n",
       "4             1815          2.8          33    0.6        159  17      607.0   \n",
       "..             ...          ...         ...    ...        ...  ..        ...   \n",
       "662           1139          0.9          58    0.5        161  11      742.0   \n",
       "663            586          2.8          15    0.2         83  11      241.0   \n",
       "664            674          2.9          21    0.2        198   4      576.0   \n",
       "665            794          0.5           2    0.8        106  14     1222.0   \n",
       "666           1512          0.9          46    0.1        145   5      336.0   \n",
       "\n",
       "     px_width   ram  sc_h  sc_w  talk_time  \n",
       "0         756  2549     9   7.0         19  \n",
       "1        1786  2769    16   8.0         11  \n",
       "2        1018  3220    13   8.0         18  \n",
       "3        1224   513    19  10.0         12  \n",
       "4         748  1482    18   0.0          2  \n",
       "..        ...   ...   ...   ...        ...  \n",
       "662       999  1850     9   4.0          8  \n",
       "663       854  2592    12   8.0          3  \n",
       "664      1809  1180     6   3.0          4  \n",
       "665      1890   668    13   4.0         19  \n",
       "666       670   869    18  10.0         19  \n",
       "\n",
       "[667 rows x 12 columns]"
      ]
     },
     "execution_count": 37,
     "metadata": {},
     "output_type": "execute_result"
    }
   ],
   "source": [
    "sayisal_veriler = [\"battery_power\",\"clock_speed\",\"int_memory\",\"m_dep\",\"mobile_wt\",\"pc\",\"px_height\",\"px_width\",\"ram\",\"sc_h\",\"sc_w\",\"talk_time\"]\n",
    "new_data_for_PCA = phone_data[sayisal_veriler]\n",
    "new_data_for_PCA"
   ]
  },
  {
   "cell_type": "code",
   "execution_count": 14,
   "metadata": {},
   "outputs": [
    {
     "data": {
      "text/plain": [
       "array([[-0.91651768,  0.82922146, -1.36630791, ..., -0.7990831 ,\n",
       "         0.3820843 ,  1.4905324 ],\n",
       "       [-1.42528384,  1.19453898, -1.19869206, ...,  0.85176602,\n",
       "         0.6382812 , -0.00899265],\n",
       "       [ 1.2776765 ,  0.22035894, -1.19869206, ...,  0.14425925,\n",
       "         0.6382812 ,  1.30309176],\n",
       "       ...,\n",
       "       [-1.29304946,  1.681629  , -0.58410061, ..., -1.50658987,\n",
       "        -0.64270328, -1.32107707],\n",
       "       [-1.02409819, -1.24091112, -1.64566766, ...,  0.14425925,\n",
       "        -0.38650639,  1.4905324 ],\n",
       "       [ 0.58512696, -0.7538211 ,  0.81269814, ...,  1.32343719,\n",
       "         1.150675  ,  1.4905324 ]])"
      ]
     },
     "execution_count": 14,
     "metadata": {},
     "output_type": "execute_result"
    }
   ],
   "source": [
    "# Normalization\n",
    "\n",
    "after_Normalization = StandardScaler().fit_transform(new_data_for_PCA.values)\n",
    "after_Normalization"
   ]
  },
  {
   "cell_type": "code",
   "execution_count": 15,
   "metadata": {},
   "outputs": [
    {
     "data": {
      "text/html": [
       "<div>\n",
       "<style scoped>\n",
       "    .dataframe tbody tr th:only-of-type {\n",
       "        vertical-align: middle;\n",
       "    }\n",
       "\n",
       "    .dataframe tbody tr th {\n",
       "        vertical-align: top;\n",
       "    }\n",
       "\n",
       "    .dataframe thead th {\n",
       "        text-align: right;\n",
       "    }\n",
       "</style>\n",
       "<table border=\"1\" class=\"dataframe\">\n",
       "  <thead>\n",
       "    <tr style=\"text-align: right;\">\n",
       "      <th></th>\n",
       "      <th>principal component 1</th>\n",
       "      <th>principal component 2</th>\n",
       "    </tr>\n",
       "  </thead>\n",
       "  <tbody>\n",
       "    <tr>\n",
       "      <th>0</th>\n",
       "      <td>-1.454651</td>\n",
       "      <td>-0.945031</td>\n",
       "    </tr>\n",
       "    <tr>\n",
       "      <th>1</th>\n",
       "      <td>2.033747</td>\n",
       "      <td>0.826377</td>\n",
       "    </tr>\n",
       "    <tr>\n",
       "      <th>2</th>\n",
       "      <td>-0.573913</td>\n",
       "      <td>-0.144631</td>\n",
       "    </tr>\n",
       "    <tr>\n",
       "      <th>3</th>\n",
       "      <td>2.613920</td>\n",
       "      <td>-0.771893</td>\n",
       "    </tr>\n",
       "    <tr>\n",
       "      <th>4</th>\n",
       "      <td>-0.805645</td>\n",
       "      <td>-0.524696</td>\n",
       "    </tr>\n",
       "    <tr>\n",
       "      <th>...</th>\n",
       "      <td>...</td>\n",
       "      <td>...</td>\n",
       "    </tr>\n",
       "    <tr>\n",
       "      <th>662</th>\n",
       "      <td>-0.628849</td>\n",
       "      <td>0.092975</td>\n",
       "    </tr>\n",
       "    <tr>\n",
       "      <th>663</th>\n",
       "      <td>-0.138965</td>\n",
       "      <td>-2.275166</td>\n",
       "    </tr>\n",
       "    <tr>\n",
       "      <th>664</th>\n",
       "      <td>-0.515448</td>\n",
       "      <td>0.886784</td>\n",
       "    </tr>\n",
       "    <tr>\n",
       "      <th>665</th>\n",
       "      <td>1.417364</td>\n",
       "      <td>2.102679</td>\n",
       "    </tr>\n",
       "    <tr>\n",
       "      <th>666</th>\n",
       "      <td>0.487052</td>\n",
       "      <td>-1.971153</td>\n",
       "    </tr>\n",
       "  </tbody>\n",
       "</table>\n",
       "<p>667 rows × 2 columns</p>\n",
       "</div>"
      ],
      "text/plain": [
       "     principal component 1  principal component 2\n",
       "0                -1.454651              -0.945031\n",
       "1                 2.033747               0.826377\n",
       "2                -0.573913              -0.144631\n",
       "3                 2.613920              -0.771893\n",
       "4                -0.805645              -0.524696\n",
       "..                     ...                    ...\n",
       "662              -0.628849               0.092975\n",
       "663              -0.138965              -2.275166\n",
       "664              -0.515448               0.886784\n",
       "665               1.417364               2.102679\n",
       "666               0.487052              -1.971153\n",
       "\n",
       "[667 rows x 2 columns]"
      ]
     },
     "execution_count": 15,
     "metadata": {},
     "output_type": "execute_result"
    }
   ],
   "source": [
    "# PCA uygulama \n",
    "pca = PCA(n_components=2)\n",
    "principalComponents = pca.fit_transform(after_Normalization)\n",
    "principal_phone_data = pd.DataFrame(data = principalComponents,\n",
    "              columns = ['principal component 1', 'principal component 2'])\n",
    "principal_phone_data"
   ]
  },
  {
   "cell_type": "code",
   "execution_count": 16,
   "metadata": {
    "scrolled": true
   },
   "outputs": [
    {
     "data": {
      "text/plain": [
       "<matplotlib.axes._subplots.AxesSubplot at 0x2b727278708>"
      ]
     },
     "execution_count": 16,
     "metadata": {},
     "output_type": "execute_result"
    },
    {
     "data": {
      "image/png": "[encoded data removed]",
      "text/plain": [
       "<Figure size 432x288 with 1 Axes>"
      ]
     },
     "metadata": {
      "needs_background": "light"
     },
     "output_type": "display_data"
    }
   ],
   "source": [
    "sns.scatterplot(data=principal_phone_data)"
   ]
  },
  {
   "cell_type": "code",
   "execution_count": 18,
   "metadata": {},
   "outputs": [],
   "source": [
    "x = principal_phone_data.iloc[:, [0,1]].values\n",
    "y = phone_data.iloc[:, -1].values"
   ]
  },
  {
   "cell_type": "code",
   "execution_count": 171,
   "metadata": {},
   "outputs": [],
   "source": [
    "X_train, X_test, y_train, y_test = train_test_split(x, y, test_size = 0.15, random_state = 0)"
   ]
  },
  {
   "cell_type": "code",
   "execution_count": 172,
   "metadata": {},
   "outputs": [],
   "source": [
    "sc = StandardScaler()\n",
    "X_train = sc.fit_transform(X_train)\n",
    "X_test = sc.transform(X_test)"
   ]
  },
  {
   "cell_type": "code",
   "execution_count": 182,
   "metadata": {},
   "outputs": [
    {
     "data": {
      "text/plain": [
       "KNeighborsClassifier(algorithm='auto', leaf_size=30, metric='minkowski',\n",
       "                     metric_params=None, n_jobs=None, n_neighbors=6, p=2,\n",
       "                     weights='uniform')"
      ]
     },
     "execution_count": 182,
     "metadata": {},
     "output_type": "execute_result"
    }
   ],
   "source": [
    "classifier = KNeighborsClassifier(n_neighbors = 6, metric = 'minkowski', p = 2)\n",
    "classifier.fit(X_train, y_train)"
   ]
  },
  {
   "cell_type": "code",
   "execution_count": 183,
   "metadata": {},
   "outputs": [],
   "source": [
    "y_pred = classifier.predict(X_test)"
   ]
  },
  {
   "cell_type": "code",
   "execution_count": 185,
   "metadata": {},
   "outputs": [
    {
     "data": {
      "text/plain": [
       "0.6435643564356436"
      ]
     },
     "execution_count": 185,
     "metadata": {},
     "output_type": "execute_result"
    }
   ],
   "source": [
    "from sklearn.metrics import accuracy_score\n",
    "ac = accuracy_score(y_test, y_pred)\n",
    "ac"
   ]
  },
  {
   "cell_type": "code",
   "execution_count": null,
   "metadata": {},
   "outputs": [],
   "source": [
    "cm"
   ]
  },
  {
   "cell_type": "code",
   "execution_count": null,
   "metadata": {},
   "outputs": [],
   "source": []
  },
  {
   "cell_type": "code",
   "execution_count": null,
   "metadata": {},
   "outputs": [],
   "source": []
  },
  {
   "cell_type": "code",
   "execution_count": null,
   "metadata": {},
   "outputs": [],
   "source": []
  },
  {
   "cell_type": "code",
   "execution_count": null,
   "metadata": {},
   "outputs": [],
   "source": []
  },
  {
   "cell_type": "code",
   "execution_count": null,
   "metadata": {},
   "outputs": [],
   "source": []
  },
  {
   "cell_type": "code",
   "execution_count": null,
   "metadata": {},
   "outputs": [],
   "source": [
    "phone_data[\"dual_sim\"].value_counts().sum()"
   ]
  },
  {
   "cell_type": "code",
   "execution_count": null,
   "metadata": {},
   "outputs": [],
   "source": [
    "phone_data[\"dual_sim\"].value_counts()"
   ]
  },
  {
   "cell_type": "code",
   "execution_count": null,
   "metadata": {},
   "outputs": [],
   "source": [
    "entropy([339 / 667, 328 / 667], base = 2)"
   ]
  },
  {
   "cell_type": "code",
   "execution_count": null,
   "metadata": {},
   "outputs": [],
   "source": [
    "ent"
   ]
  },
  {
   "cell_type": "code",
   "execution_count": null,
   "metadata": {},
   "outputs": [],
   "source": [
    "phone_data[\"blue\"].row()"
   ]
  },
  {
   "cell_type": "code",
   "execution_count": null,
   "metadata": {},
   "outputs": [],
   "source": [
    "phone_data[\"blue\"].value_counts()"
   ]
  },
  {
   "cell_type": "code",
   "execution_count": null,
   "metadata": {},
   "outputs": [],
   "source": [
    "phone_data[\"ram\"].value_counts().sort_values(ascending=False)"
   ]
  },
  {
   "cell_type": "code",
   "execution_count": null,
   "metadata": {},
   "outputs": [],
   "source": []
  },
  {
   "cell_type": "code",
   "execution_count": null,
   "metadata": {},
   "outputs": [],
   "source": [
    "phone_data[\"px_height\"]"
   ]
  },
  {
   "cell_type": "code",
   "execution_count": null,
   "metadata": {},
   "outputs": [],
   "source": [
    "phone_data[\"px_height\"].values"
   ]
  },
  {
   "cell_type": "code",
   "execution_count": null,
   "metadata": {},
   "outputs": [],
   "source": [
    "phone_data[\"px_height\"].value_counts().sort_values(ascending=False)"
   ]
  },
  {
   "cell_type": "code",
   "execution_count": null,
   "metadata": {},
   "outputs": [],
   "source": [
    "phone_data.isna().sum()"
   ]
  },
  {
   "cell_type": "code",
   "execution_count": null,
   "metadata": {},
   "outputs": [],
   "source": [
    "phone_data"
   ]
  },
  {
   "cell_type": "code",
   "execution_count": null,
   "metadata": {
    "scrolled": false
   },
   "outputs": [],
   "source": [
    "deger_kucultme=[\"battery_power\",\"px_height\",\"px_width\",\"ram\"]"
   ]
  },
  {
   "cell_type": "code",
   "execution_count": null,
   "metadata": {},
   "outputs": [],
   "source": [
    "t=((phone_data[\"clock_speed\"]*10).astype(\"int64\"))\n",
    "phone_data[\"clock_speed\"] = t\n",
    "\n",
    "a=((phone_data[\"m_dep\"]*100).astype(\"int64\"))\n",
    "phone_data[\"m_dep\"] = a"
   ]
  },
  {
   "cell_type": "code",
   "execution_count": null,
   "metadata": {},
   "outputs": [],
   "source": [
    "med=int(phone_data.shape[0]/2)"
   ]
  },
  {
   "cell_type": "code",
   "execution_count": null,
   "metadata": {},
   "outputs": [],
   "source": [
    "for i in phone_data[sayisal_veriler].columns:\n",
    "    stdfark=int(phone_data[i].std())\n",
    "    phone_data.loc[[med+stdfark],i]=np.nan\n",
    "    phone_data.loc[[med-stdfark],i]=np.nan\n",
    "    ort=int(phone_data[i].mean(axis=0))\n",
    "    phone_data.loc[[med+stdfark],i]=ort\n",
    "    phone_data.loc[[med-stdfark],i]=ort"
   ]
  },
  {
   "cell_type": "code",
   "execution_count": null,
   "metadata": {},
   "outputs": [],
   "source": [
    "phone_data.loc[:328:]"
   ]
  },
  {
   "cell_type": "code",
   "execution_count": null,
   "metadata": {},
   "outputs": [],
   "source": [
    "for i in phone_data[kategorik_veriler].columns:\n",
    "    bins = np.arange(10) - 0.5\n",
    "    plt.figure(figsize = (12,5))\n",
    "    plt.hist(x = phone_data[i].astype(\"str\"), bins = bins, edgecolor = \"red\")\n",
    "    plt.xlabel(phone_data[i].name, weight='bold', fontsize = 13)\n",
    "    plt.xlim([-1, 8])"
   ]
  },
  {
   "cell_type": "code",
   "execution_count": null,
   "metadata": {},
   "outputs": [],
   "source": [
    "x = phone_data.loc[:,sayisal_veriler].values"
   ]
  },
  {
   "cell_type": "code",
   "execution_count": null,
   "metadata": {},
   "outputs": [],
   "source": [
    "phone_data"
   ]
  },
  {
   "cell_type": "code",
   "execution_count": null,
   "metadata": {},
   "outputs": [],
   "source": [
    "pca = PCA(n_components=2)\n",
    "principalComponents = pca.fit_transform(x)\n",
    "principalDf = pd.DataFrame(data = principalComponents\n",
    "             , columns = ['principal component 1', 'principal component 2'])"
   ]
  },
  {
   "cell_type": "code",
   "execution_count": null,
   "metadata": {},
   "outputs": [],
   "source": [
    "principalDf"
   ]
  },
  {
   "cell_type": "code",
   "execution_count": null,
   "metadata": {},
   "outputs": [],
   "source": [
    "sns.scatterplot(data=principalDf)"
   ]
  },
  {
   "cell_type": "code",
   "execution_count": null,
   "metadata": {},
   "outputs": [],
   "source": []
  },
  {
   "cell_type": "code",
   "execution_count": null,
   "metadata": {
    "scrolled": true
   },
   "outputs": [],
   "source": [
    "phone_data.info()"
   ]
  },
  {
   "cell_type": "code",
   "execution_count": null,
   "metadata": {},
   "outputs": [],
   "source": [
    "pd.options.mode.chained_assignment = None"
   ]
  },
  {
   "cell_type": "code",
   "execution_count": null,
   "metadata": {},
   "outputs": [],
   "source": [
    "phone_data"
   ]
  },
  {
   "cell_type": "code",
   "execution_count": null,
   "metadata": {},
   "outputs": [],
   "source": [
    "phone_copy.values #returns a numpy array\n",
    "min_max_scaler = preprocessing.MinMaxScaler()\n",
    "phone_copy_scaled = min_max_scaler.fit_transform(phone_copy[['battery_power','ram']])\n",
    "df = pd.DataFrame(phone_copy_scaled)"
   ]
  },
  {
   "cell_type": "code",
   "execution_count": null,
   "metadata": {},
   "outputs": [],
   "source": [
    "phone_copy=pd.DataFrame(phone_copy_scaled)"
   ]
  },
  {
   "cell_type": "code",
   "execution_count": null,
   "metadata": {},
   "outputs": [],
   "source": [
    "numeric_veriler = [x for x in phone_data.columns if (phone_data[x].dtypes == \"int64\") | \n",
    "                                                 (phone_data[x].dtypes == \"float64\")]\n",
    "for i in phone_data[numeric_veriler].columns:\n",
    "     print(phone_data[i].value_counts(), \"\\n\\n\")"
   ]
  },
  {
   "cell_type": "code",
   "execution_count": null,
   "metadata": {},
   "outputs": [],
   "source": [
    "a = phone_data[phone_data[\"wifi\"] == 0]['wifi']"
   ]
  },
  {
   "cell_type": "code",
   "execution_count": null,
   "metadata": {},
   "outputs": [],
   "source": [
    "pd.to_numeric(a)"
   ]
  },
  {
   "cell_type": "code",
   "execution_count": null,
   "metadata": {},
   "outputs": [],
   "source": [
    "type(phone_data[phone_data[\"wifi\"] == 0]['wifi'])"
   ]
  },
  {
   "cell_type": "code",
   "execution_count": null,
   "metadata": {},
   "outputs": [],
   "source": [
    "phone_data.loc[:,phone_data[phone_data[\"wifi\"] == 0]] =  \"yok\"\n",
    "# phone_data[phone_data[\"wifi\"] == 0] = \"yok\""
   ]
  },
  {
   "cell_type": "code",
   "execution_count": null,
   "metadata": {},
   "outputs": [],
   "source": [
    "phone_data[\"wifi\"].astype(\"str\")"
   ]
  },
  {
   "cell_type": "code",
   "execution_count": null,
   "metadata": {},
   "outputs": [],
   "source": [
    "phone_data[\"touch_screen\"].value_counts()"
   ]
  },
  {
   "cell_type": "code",
   "execution_count": null,
   "metadata": {},
   "outputs": [],
   "source": [
    "import matplotlib.pyplot as plt\n",
    "\n",
    "plt.hist(x = phone_data[\"wifi\"].astype(\"str\"))"
   ]
  },
  {
   "cell_type": "code",
   "execution_count": null,
   "metadata": {},
   "outputs": [],
   "source": [
    "def grab_col_names(dataframe, cat_th=10, car_th=20):\n",
    "    \"\"\"\n",
    "    Veri setindeki kategorik, numerik ve kategorik fakat kardinal değişkenlerin isimlerini verir.\n",
    "    Not: Kategorik değişkenlerin içerisine numerik görünümlü kategorik değişkenler de dahildir.\n",
    "\n",
    "    Parameters\n",
    "    ------\n",
    "        dataframe: dataframe\n",
    "                Değişken isimleri alınmak istenilen dataframe\n",
    "        cat_th: int, optional\n",
    "                numerik fakat kategorik olan değişkenler için sınıf eşik değeri\n",
    "        car_th: int, optinal\n",
    "                kategorik fakat kardinal değişkenler için sınıf eşik değeri\n",
    "\n",
    "    Returns\n",
    "    ------\n",
    "        cat_cols: list\n",
    "                Kategorik değişken listesi\n",
    "        num_cols: list\n",
    "                Numerik değişken listesi\n",
    "        cat_but_car: list\n",
    "                Kategorik görünümlü kardinal değişken listesi\n",
    "\n",
    "    Examples\n",
    "    ------\n",
    "        import seaborn as sns\n",
    "        df = sns.load_dataset(\"iris\")\n",
    "        print(grab_col_names(df))\n",
    "\n",
    "\n",
    "    Notes\n",
    "    ------\n",
    "        cat_cols + num_cols + cat_but_car = toplam değişken sayısı\n",
    "        num_but_cat cat_cols'un içerisinde.\n",
    "        Return olan 3 liste toplamı toplam değişken sayısına eşittir: cat_cols + num_cols + cat_but_car = değişken sayısı\n",
    "\n",
    "    \"\"\"\n",
    "\n",
    "    # cat_cols, cat_but_car\n",
    "    cat_cols = [col for col in dataframe.columns if dataframe[col].dtypes == \"O\"]\n",
    "    num_but_cat = [col for col in dataframe.columns if dataframe[col].nunique() < cat_th and\n",
    "                   dataframe[col].dtypes != \"O\"]\n",
    "    cat_but_car = [col for col in dataframe.columns if dataframe[col].nunique() > car_th and\n",
    "                   dataframe[col].dtypes == \"O\"]\n",
    "    cat_cols = cat_cols + num_but_cat\n",
    "    cat_cols = [col for col in cat_cols if col not in cat_but_car]\n",
    "\n",
    "    # num_cols\n",
    "    num_cols = [col for col in dataframe.columns if dataframe[col].dtypes != \"O\"]\n",
    "    num_cols = [col for col in num_cols if col not in num_but_cat]\n",
    "\n",
    "    print(f\"Observations: {dataframe.shape[0]}\")\n",
    "    print(f\"Variables: {dataframe.shape[1]}\")\n",
    "    print(f'cat_cols: {len(cat_cols)}')\n",
    "    print(f'num_cols: {len(num_cols)}')\n",
    "    print(f'cat_but_car: {len(cat_but_car)}')\n",
    "    print(f'num_but_cat: {len(num_but_cat)}')\n",
    "    return cat_cols, num_cols, cat_but_car\n"
   ]
  },
  {
   "cell_type": "code",
   "execution_count": null,
   "metadata": {},
   "outputs": [],
   "source": [
    "grab_col_names(phone_data)"
   ]
  },
  {
   "cell_type": "code",
   "execution_count": null,
   "metadata": {},
   "outputs": [],
   "source": [
    "phone_data.iloc[:333:]"
   ]
  },
  {
   "cell_type": "code",
   "execution_count": null,
   "metadata": {},
   "outputs": [],
   "source": [
    "plt.hist(x = phone_data['dual_sim'].astype(\"str\"))"
   ]
  },
  {
   "cell_type": "code",
   "execution_count": null,
   "metadata": {},
   "outputs": [],
   "source": [
    "plt.hist(x = phone_data['blue'].astype(\"str\"))"
   ]
  },
  {
   "cell_type": "code",
   "execution_count": null,
   "metadata": {},
   "outputs": [],
   "source": [
    "kategorik_veriler = [\"blue\", \"dual_sim\", \"four_g\", \"touch_screen\", \"wifi\"]\n",
    "\n",
    "for i in phone_data[kategorik_veriler].columns:\n",
    "    bins = np.arange(10) - 0.5\n",
    "    plt.figure(figsize = (12,5))\n",
    "    plt.hist(x = phone_data[i].astype(\"str\"), bins = bins, edgecolor = \"red\")\n",
    "    plt.xlabel(phone_data[i].name, weight='bold', fontsize = 13)\n",
    "    plt.xlim([-1, 8])"
   ]
  },
  {
   "cell_type": "code",
   "execution_count": null,
   "metadata": {},
   "outputs": [],
   "source": [
    "phone_data"
   ]
  },
  {
   "cell_type": "code",
   "execution_count": null,
   "metadata": {},
   "outputs": [],
   "source": [
    "deger_kucultme=[\"battery_power\",\"px_height\",\"px_width\",\"ram\"]"
   ]
  },
  {
   "cell_type": "code",
   "execution_count": null,
   "metadata": {},
   "outputs": [],
   "source": [
    "for i in phone_data[deger_kucultme].columns:\n",
    "    \n",
    "    t=((phone_data[i]/10).astype(\"int64\"))\n",
    "    phone_data[i] = t"
   ]
  },
  {
   "cell_type": "code",
   "execution_count": null,
   "metadata": {},
   "outputs": [],
   "source": [
    "phone_data"
   ]
  },
  {
   "cell_type": "code",
   "execution_count": null,
   "metadata": {},
   "outputs": [],
   "source": [
    "t=((phone_data[\"clock_speed\"]*10).astype(\"int64\"))\n",
    "phone_data[\"clock_speed\"] = t\n",
    "\n",
    "a=((phone_data[\"m_dep\"]*100).astype(\"int64\"))\n",
    "phone_data[\"m_dep\"] = a"
   ]
  },
  {
   "cell_type": "code",
   "execution_count": null,
   "metadata": {},
   "outputs": [],
   "source": [
    "phone_data"
   ]
  },
  {
   "cell_type": "code",
   "execution_count": null,
   "metadata": {},
   "outputs": [],
   "source": [
    "#kategorik_veriler = [\"blue\", \"dual_sim\", \"four_g\", \"touch_screen\", \"wifi\", \"price_range\",\"n_cores\"]\n",
    "sayisal_veriler = [\"battery_power\",\"clock_speed\",\"int_memory\",\"m_dep\",\"mobile_wt\",\"pc\",\"px_height\",\"px_width\",\"ram\",\"sc_h\",\"sc_w\",\"talk_time\"]"
   ]
  },
  {
   "cell_type": "code",
   "execution_count": null,
   "metadata": {},
   "outputs": [],
   "source": [
    "med=int(phone_data.shape[0]/2)"
   ]
  },
  {
   "cell_type": "code",
   "execution_count": null,
   "metadata": {},
   "outputs": [],
   "source": [
    "med"
   ]
  },
  {
   "cell_type": "code",
   "execution_count": null,
   "metadata": {},
   "outputs": [],
   "source": [
    "for i in phone_data[sayisal_veriler].columns:\n",
    "    stdfark=int(phone_data[i].std())\n",
    "    phone_data.loc[[med+stdfark],i]=np.nan\n",
    "    phone_data.loc[[med-stdfark],i]=np.nan\n",
    "    #ort=int(phone_data[i].mean(axis=0))\n",
    "    #phone_data.loc[[med+stdfark],i]=ort\n",
    "    #phone_data.loc[[med-stdfark],i]=ort"
   ]
  },
  {
   "cell_type": "code",
   "execution_count": null,
   "metadata": {},
   "outputs": [],
   "source": [
    "phone_data.isna().sum()"
   ]
  },
  {
   "cell_type": "code",
   "execution_count": null,
   "metadata": {},
   "outputs": [],
   "source": [
    "for i in phone_data[sayisal_veriler].columns:\n",
    "    stdfark=int(phone_data[i].std())\n",
    "    ort=int(phone_data[i].mean(axis=0))\n",
    "    phone_data.loc[[med+stdfark],i]=ort\n",
    "    phone_data.loc[[med-stdfark],i]=ort"
   ]
  },
  {
   "cell_type": "code",
   "execution_count": null,
   "metadata": {},
   "outputs": [],
   "source": [
    "phone_data.isna().sum()"
   ]
  },
  {
   "cell_type": "code",
   "execution_count": null,
   "metadata": {},
   "outputs": [],
   "source": [
    "def numeric_to_categoric(dataframe, column_name):\n",
    "    \"\"\"\n",
    "        0 ve 1 seklinde gorulen verileri \n",
    "        0 icin yok, 1 icin var olarak degistirir\n",
    "    Args:\n",
    "        dataframe (data.Frame): degistirelecek dataframe\n",
    "        column_name ([type]): degistirelecek dataframe'in kolonu\n",
    "\n",
    "    Raises:\n",
    "        Exception: \n",
    "        eger 0 ve 1 sekilde 2 den fazla degisken varsa\n",
    "        exception doner\n",
    "    Returns:\n",
    "        dataframe\n",
    "    \"\"\"\n",
    "    if dataframe[column_name].nunique() != 2:\n",
    "        raise Exception(\"Ikiden fazla degişken görüldü\")\n",
    "    else:\n",
    "        dataframe.loc[dataframe[column_name] == 1, column_name] = \"var\"\n",
    "        dataframe.loc[dataframe[column_name] == 0, column_name] = \"yok\"\n",
    "    \n",
    "    return dataframe\n"
   ]
  },
  {
   "cell_type": "code",
   "execution_count": null,
   "metadata": {},
   "outputs": [],
   "source": [
    "for i in phone_data[kategorik_veriler].columns:\n",
    "    numeric_to_categoric(phone_data,phone_data[i].name)"
   ]
  },
  {
   "cell_type": "code",
   "execution_count": null,
   "metadata": {
    "scrolled": true
   },
   "outputs": [],
   "source": [
    "phone_data"
   ]
  },
  {
   "cell_type": "code",
   "execution_count": null,
   "metadata": {},
   "outputs": [],
   "source": [
    "x = phone_data.loc[:,sayisal_veriler].values"
   ]
  },
  {
   "cell_type": "code",
   "execution_count": null,
   "metadata": {},
   "outputs": [],
   "source": [
    "pca = PCA(n_components=2)\n",
    "principalComponents = pca.fit_transform(x)\n",
    "principalDf = pd.DataFrame(data = principalComponents\n",
    "             , columns = ['principal component 1', 'principal component 2'])"
   ]
  },
  {
   "cell_type": "code",
   "execution_count": null,
   "metadata": {},
   "outputs": [],
   "source": [
    "principalDf"
   ]
  },
  {
   "cell_type": "code",
   "execution_count": null,
   "metadata": {},
   "outputs": [],
   "source": [
    "sns.scatterplot(data=principalDf)"
   ]
  },
  {
   "cell_type": "code",
   "execution_count": null,
   "metadata": {},
   "outputs": [],
   "source": [
    "phone_data[\"blue\"].value_counts().sum()"
   ]
  }
 ],
 "metadata": {
  "kernelspec": {
   "display_name": "Python 3",
   "language": "python",
   "name": "python3"
  },
  "language_info": {
   "codemirror_mode": {
    "name": "ipython",
    "version": 3
   },
   "file_extension": ".py",
   "mimetype": "text/x-python",
   "name": "python",
   "nbconvert_exporter": "python",
   "pygments_lexer": "ipython3",
   "version": "3.7.6"
  }
 },
 "nbformat": 4,
 "nbformat_minor": 4
}
